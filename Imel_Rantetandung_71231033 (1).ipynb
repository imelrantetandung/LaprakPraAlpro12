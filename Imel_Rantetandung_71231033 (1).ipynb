{
  "nbformat": 4,
  "nbformat_minor": 0,
  "metadata": {
    "colab": {
      "provenance": []
    },
    "kernelspec": {
      "name": "python3",
      "display_name": "Python 3"
    },
    "language_info": {
      "name": "python"
    }
  },
  "cells": [
    {
      "cell_type": "code",
      "execution_count": null,
      "metadata": {
        "id": "8iRDPAleoL46"
      },
      "outputs": [],
      "source": [
        "#SOAL NO 1\n",
        "angka = (10,10,10,10)\n",
        "x = angka[0]\n",
        "\n",
        "for i in angka:\n",
        "    if i != x:\n",
        "        print(False)\n",
        "        break\n",
        "    else:\n",
        "        print(True)\n",
        ""
      ]
    },
    {
      "cell_type": "code",
      "source": [
        "#SOAL NO 2\n",
        "data = ('Imel Rantetandung', '71231033', 'Tondon, Toraja Utara, Sulawesi Selatan')\n",
        "\n",
        "print(f'Data: {data}\\n')\n",
        "print(f'NIM\\t: {data[1]}')\n",
        "print(f'NAMA\\t: {data[0]}')\n",
        "print(f'ALAMAT\\t: {data[2]}\\n')\n",
        "\n",
        "print(f'NIM: {tuple(data[1])}')\n",
        "print(f'NAMA DEPAN: {tuple(data[0][:4])}')\n",
        "print(f'NAMA TERBALIK: {tuple(data[0].split()[::-1])}')"
      ],
      "metadata": {
        "id": "amX8up-SoWAs"
      },
      "execution_count": null,
      "outputs": []
    },
    {
      "cell_type": "code",
      "source": [
        "#SOAL NO 3\n",
        "masukkan_file = input(\"Enter a file name: \")\n",
        "handle = open(masukkan_file)\n",
        "\n",
        "setiap_jam = {}\n",
        "\n",
        "for line in handle:\n",
        "    if line.startswith('From '):\n",
        "        kata = line.split()\n",
        "        waktu = kata[5].split(':')\n",
        "        jam = waktu[0]\n",
        "        setiap_jam[jam] = setiap_jam.get(jam, 0) + 1\n",
        "setiap_jam = sorted(setiap_jam.items())\n",
        "\n",
        "for jam,jumlah in setiap_jam:\n",
        "    print(jam,jumlah)"
      ],
      "metadata": {
        "id": "rCmJy2ZMoaDB"
      },
      "execution_count": null,
      "outputs": []
    }
  ]
}